{
  "nbformat": 4,
  "nbformat_minor": 0,
  "metadata": {
    "colab": {
      "provenance": [],
      "authorship_tag": "ABX9TyMTR5uD1XUGpUXF2Iukh0C2",
      "include_colab_link": true
    },
    "kernelspec": {
      "name": "python3",
      "display_name": "Python 3"
    },
    "language_info": {
      "name": "python"
    }
  },
  "cells": [
    {
      "cell_type": "markdown",
      "metadata": {
        "id": "view-in-github",
        "colab_type": "text"
      },
      "source": [
        "<a href=\"https://colab.research.google.com/github/akshara11/Machine-Learning-Project/blob/main/Hand_Written_Digit_Classification.ipynb\" target=\"_parent\"><img src=\"https://colab.research.google.com/assets/colab-badge.svg\" alt=\"Open In Colab\"/></a>"
      ]
    },
    {
      "cell_type": "markdown",
      "source": [
        "# Hand Written Digit Prediction - Classification **Analysis** ![Screenshot 2024-05-30 214051.png](data:image/png;base64,iVBORw0KGgoAAAANSUhEUgAAATkAAADUCAYAAADnTFQZAAAAAXNSR0IArs4c6QAAAARnQU1BAACxjwv8YQUAAAAJcEhZcwAADsMAAA7DAcdvqGQAADaySURBVHhe7Z0HmBxXma6/6jRRMxqFUZzRKFjJsmXL2DjJkgPOBgdMMGt2Yc0Slw2wu8Byn7377LPsXtY2sHDNgoELBmMMDjgpWLKRFSxLtnLOOcwojDQaTexw//+cOt3VPdXd1ZJGni79b8/Xlc45darqr6/Oqa7usRIEBEEQfErAHgqCIPgSMTlBEHyNmJwgCL5GTE4QBF8jJicIgq8RkxMEwdeIyQmC4GvE5ARB8DVicoIg+BoxOUEQfI2YnCAIvkZMThAEXyMmJwiCrxGTEwTB14jJCYLga8TkBEHwNWJygiD4GjE5QRB8jZicIAi+RkxOEARfIyYnCIKvEZMTBMHXiMkJguBrxOT6MKl/iMtjRmeHs6RUiakxbxSSVhDeX8TkzjdJPzEjieTLsdB+d85hLHvolVTOXHhL5YTrkcqVXkdB6FvIf9A/nzj3dCIOfvHeT1gWAgGSvUibiJWenN/icVDS5HzOoWzPeB+XGachJ6KyLSrQQlAtcpJWrqoAz+G1Jygri5fkvv7FaUWcy6w6wJl0RkHoU0hL7nySdBd7JE7tNzIYJbILPZff9RhbhpGZa0xJ+RJDC6kYEhsmz2fzsV+JdKM0OMvlgpQx6mL1kA2MJ9wy28R5XSojodabI7EgvI9IS+58wns6EaO3OLo7Y4jGyGCo9cO2FAqHEYkE1FXHSlmQ7TNsWTF0d3SgO8rtP26ihVBeEkEwEKCWIKeJItHdiQ4qN0Z5A8EQSiIlCIe4RDIjLoibdgSXxs5o0bqj3d3o7OqiZUEyKguhEOfjVFQLmmdXI4M4Ojs60dUdpTFqK1KeUlpXKMiJ1YpUqnNHb5QpXCiIyZ0X2FTIaOg8TXS2Yf/BQ1i7Yj2OnjiNLmp5hUpCqGsYgwmTJmPQoGqEKR37BR8YdXonogjEOrDyvXewet0mtEbDqOg/FNOvvRoNI4YiEoxSwm6sWroI767Zgq5gGfr1H4TrafnokbUI0DIEQpSGTE6ZbDclj+Jg01GsX78RBw8douqRyaEEI0bWY8rUiagdNABhqgR3o5OoSKH8iS4sX7QYKzdsRYdVhpGj6nHTjOtRU1FK3hmlurOZakM9V6j9oEeT0CXCHtPrMsuViRP6YiFc6IjJnQ/YWMikuAW0YdlyPPPCq5g7fyGONLcgFm1HZUUZ6sdNwYzb78P9D34EI4dWI0LnZ4jEBycR60Qo3obXnnsG3/nu49h6qBU1Iyfhy3/9N3j4o3dhQFkUrUf24pv/8E94/vUliJXXYtpV1+FfvvH3uHLKGDIdWn+AmmdcWOw0qR27t+7Ar3/3EmYvWIxDjQeRiHYjYJWgbvRkXHfL7fjkJz+KCQ1DyHC1vfDtNu6eWqBWX6IN//mtb+NHv3oe7aEaXHPjzfj+f/0bGoYOoJZhB8LUutStQGplUnhZZOQKmlamSeWo7i7N4lYo31nUZmqkrwlcYc6fSkeidPzieXE2XF4Wp4U0Q+ckVJ05r75rGaD68EJ1F5HDXS1WUyTeNkpD4qHgP87t5VZIoc8gJXXvyoqj7fA+/OKnP8UvnvotVm/ZjmgggQE15WhrbsLiBfPxxBNPYN6f3kYHe6Jq+CXUAVIfHoQimDbtMkyZMBqdp05g3+7dmP36n7DnwEE6igm8t/BNyrsQjdQ6bI+HMHXalRhVP0IbDHVt1aGOU8EWdU9PHMFLz72AJ5/8JVau3azWV9O/AvGOZqxYtgj/8+Of4LlX56GtW5sTf8igURtDwxg6Tp/E8WPHcJyMuuV0B2L2tVLdW6RRNjGel6BuMY+zojyf6pCgliC3PJWB8XLKxfcSdfmciCpEF4a4ysuzaEh1oA65LlOl5Bc7FyfQ9xC5LM6upMZ1foP6qIfKpZrQ0M5D4jKjlJDrKPiP4P8m7HGhl4jHqbsZjGHb8rfx2Pf/L/Y0d6Fi8HD8+V88hI/dcyMCna3YsWMvGo+3oqRfNWbMuBHV5UFqyal2Br24ZZSgLmglwmQO69duQvPJNmoJnsKY+uEYO6w/fvDd/8DiNTuAqlp8cPot+PLnP4PRIwaTPUapARWmWrDJUbc12IlDmzfhx//zS6zauheVtfW474F78Gf3345+5KW7d+5G45FTOE2tuttuuRGDqqgLSqajWkNkAhaVB2rNLZ43D8tWb0JXuBpjxl+E++6aiZJ4O3bs2k3d4GPooO5whLz1+NEjqnt++PhJda+wqjyMKJnpgUMHsO/AUTS3tCEUKkFJJKxaUha3zuKd6GxvweGmJtWVPnr8OI61tCIWDKOspEQbP6eNdyFA29TW3Ix9e/fh8JGjONV2GtFYFEcaKe/BRlV+ZVUNQrRt8Ti1pqOdONl8DAf2U52ONOPIsVPooE0Kl5are4rqtqKyUWnV+QUxuV6HWxhkctSC2r5mBZ578TU0tQUxqG4svvH1r+LumVfg6IF9+NPCZTgdDaG2rgG33XormUsEQXWu8YnPUNePzu7+lWU4sHcvtm3ZTCfoSTIxapG0HsVTTz+DI+0hDKofj0c++5e4/YYP0AmbQJDyqK4jl6JalF04uGOLqsfOpuOoHjoKn3vkz/GJu29BtPUEFry1GMdaEwj3H4J77/wQhg+qQiwWQzBIZSRNrhsLZs/BonfXossqx8j6Onz87htwZO96/PCJn+DVN5eQiTWh7eRRvD7nVbw6aw7eWLJcmdCQmgqsX/kOfv/s7/Ha3AVYtmIzTrV2oHbwYFT3Kyfj6sTBvbuwcMGbmEXreGXWXCxcvATL16wlozyF6v4DyCgrEaHqWJ3Uot21DbNfegXPvfAK5i9YhNUbNmD37u2YRyY8a/5CrNy8D5df8QHUVIbQ1nIQG9avxrw58/Hiy7PwxoJ3sGTZKmzfvY/OhBIMGjgAFSV875J2vHRdfYOYXG9DJwt3gwIWmUNrC+bOW4ADR9upxTYAV1w6CaXowKKFS/D2ys3oDlbgg9dPx12334J+pQEyKftE44EqJ46y0hKUUfd0/aqVOHLkGBV5Ehs2bsBBapF0BqvwoTvvxl986uMYOaCcTI1NLkjZdTnchbMC1OnrOI2Fi97Gxp37UFJRjckTx2JwdRmWvvMOFi1bjZbOMCZMvRwPPfBhDKwqUSe9bslxVailRS25t+bMxZIV66nOlahrqMND98xE486NePxHP6EW3lbspZbStg1r8e6St7B29RqsXrsRmzdtQ+PhRrz5+jwsfmsR1Xsj1m/Yik1bdmHYsGG4bMoktBw7rLr0P/1/T2Px0vewd88eHNq7k1qva7CKutZt0QDGjx2L2v5lOL53M37+s5/jyad+j0Ur1mHz1q3Ujd+JNSvexbsrVmL1ph20X1px/713YvjAUry3ZA6e+J+f4cVX52M51X33jp3YtWU91q1dhR27D2D4iNEY0zCctpG7zrTXxOh8Abf8hd7AeX7wJ5vxAIaNHYe77rgNQ2uqcarxEH7766fx/R/+DPMWvkdtoxJcNOkSzJh+HfqVc2vCzuvAQphaVCW4/ANXYuZ1V6O6LIijRxuxgcyqlVuB9Q348N13om7IAHVgQ3SSGoNTKKMKYcDwetx+221oGDGCunpHMfuVl/D4D57AC7P+hJPtQN3Yi3DH7bdiQE0/nU334dI2KQnN5Pnku8oILf6EgDyikbqCwXAE06/9IKaMa0A5zTyw/yCee3m+av3dfPNNuGRCPazYKWzZugkLyHQ7Orupu7yLWn5zqcvbgqqaWjz4wH347EMPYAR1m/dt2YgX//gKVlCrDtT1XP7O23jmuT9i66HjSJRV45rrb8AdN92AodWVSHR3qYtLLMofhHTh9MkmPPfM7zF7zps4cOQkxl88BR/9yB24+YNTEO46iUXz5+I5KquxuRVxK0BdXjZzwQ+IyfUa3OzRTsX303g6VN0PV19zDYYOrkXn6VN4d/lyzHr9DWzftY/Mi1pPE8bj0qmXIRx2PzAB/rSSDKTf4IGYOm0qKvtVoCvaSd3YELq7Yhg6sh6T6eSNhNnMqNVmXMk2TMtujYVKK6gLdyVGj2xAtKMDG9auxyuvzcKmTdsR7Q5g5KixuPrqq1FSogvQLRr7gwEnpnyCe3jqWxA87IyjZvAwfPqzn8XX/+FruPNDN6AkRPn5086Kgfizv/wivv6Nr+Ge22dS1zOIRKwbew824kRrJ8JUt9tvvw0PP/wp3H/fvbjrzltx2y03kSEPI0OM4tD+w9hIXfXOU0exaPFC7D5wBIlwP0yadi3+9mtfwz/+w1fxiXtvx8AKaoF2dyMe7VLr3r5pPebPX4z2dgv9+tfijrvuwl88/Al88oG7aT8MRXf7abz73kps3r5XfQOFW72CPxCT6xUS6qWhkzveCQSjOHFwP157/XUcOn4C4fJ+uOTSKbhh+jUYUz8UiegpbFy7AstWrEIn3/ZyIxFTH5RGuzqw91ATTlJCbm9YiS4ywDiaDjfhcNNxbjSqh4w1jpNVfbqawOnm43j9zUXYtvcAAiVVaBg3AddTy3DyuJEopW71jk2b8dZbS3CqnT8FpT/16SqX42J0BN+pS6hn47iLxysHagbW4uKLp2LcxIkYN7oeIWVy1N2uGojJl16OsRMnYNL4MdRqLVWPr3STqbR3RTGGuqL33fdhjBs3Cm1tJ/HiSy/imd8/j8amo9p8qLV3krroLSeOYc+efejopmIDZbh6+k34IBnz2AkNVG4d+pdHEKB6W1RumLrsO3fswL6Dx2n/laKrO4Z1a9bgxZdfxoIly9Dc3KLq1tTYiD279+qWKeUR/IGYXK+gjYBPfnU/ix+ZIKNbsWghXnjpJTI56i5d+gH8PbU8vv71v8VnHroftf1LqLWxDr/57e+oVXNKt5Iy/CSRIPeLd2Hbhg2Y8+ZCNJ1oR4TMsoa6rWWhbhzcuR2z585D03HqcrE5cbPP2SJhk6OO8ZYN6/CHF17BvsPNqB9/MT73+S/hm9/4J/z15z6FMSMHoOnAHvz6qaexbvMeVQ/ddVMPetBQl2c3Uh0oa6B3CilaFrCCSuzKoRCP6ySmFE4UptYrt055PEp14083jx9rwrN/eBY/ffJJPP3ss5g7fz5WUvf02IlmaomSw8fiqsUYJ2OMkuFxyzESKcWI4cMpPxsTP8unW7Gqq851QRCnTrWhnQwxRtOtp05jwZtvUfnP4aU5b6CVyhk5sk4Zbqyr0+XbvkIxIybXS/CJpl7cbeT7VF1dWLNyJdpOt9M8C+MnTsaMmTOp2zgN06+9CkMGDoBFJ/3WrbuwZ98h7RlOyKwsKqv12DH88aXXsGrDdsSscoyZeDHuu+sW1IS6EOo6hbmvvIRFS1einXwpxi0wNjpGOQu90fTG9WupxddIrctSDBtRhxtumIkrpl2JGddfj2HDBlF/NoQD1KLZuG2nymqek0uwsyXdTRuIhuyEt5Gl5tPWk9Q3H0hsfbwfeJGyIE5GkwG1b3i+hSiZFtkp3pj/Op74yS+wYv0WVNeOwF998QvU5f0b6oZPoqqTyZMD8X4tKylDeQmZJJUYJPM/1dyMWJQ2OsHf3AiRmen16CpbKKVucJi68dxl799/AD5y/4P40lf/Dl/+6lfwpS9/BX/5yOfxhc8/gssvncAbRFWijPQnFD9icr2CPtnZ6PQ4P6cWRgmdmGE6ocOBBPbv2o6lS9/BpvXrsWLNehxv4S5tCUpKSxAMcHvHAU/wCZ7oxtqVqzD3zcU4Qckj1PW77fY78NWvfhEXjxuOMrThwM6NePmVV7GHWmlRaknF1Ne4yBZUlagg6obx4yCRYIxaUR1oPLQXy5a9S8a3Ge+t2UKtTOq60XIrEkaEbw4yKjOHit4uXR6VpSb5GT41R02qdGxsNFMFF6XjVpzF3T9q1ann25T5cV1ooIrT5UVjndi0aQNOtHQgUlGF8RMm4eabb8Wo0WPJd/k5Or3OWCKE0vIqjB41EvwZTbz9GN5dPB+rVqzAFmp9rtu0C63ttL9o+3m9/H3f8ePHo6FuCIIxuhjEuzF82DBMnz4DN990C6644koMHjoc02+cgYsvmYgYG6d69obrxhshFDMqDoVzDZ8dbHJ6mLDILEIV+MA111O3aASdmDFsXrMU33/8MTz6+H/j5795HvupixksKcW0yydj7KghygOScJfT6sbJpkN4+dXZ1MLai1igDOMmTcLtt9yECZdOw8c+eh+qS8louluxdMkiLHx7GdqoZcP3sWDxkIxEHe0ApkydhskTxqLUOo1929fiZz95Ao89/kP86Ge/wc4DRylJEJMvm4LLJl+kVs8fiqhQoVaS/v6rfshCla22kbqPFhkz+wJ/uEHi9fE89c0FMjWyDVVuiM3Ddg6+d6jqxOXYLbraIbUoL6UubrQDuzZvwHO/f566rk9hw6at6ocAOGs0RuVU1OC6G2Zg9MiBZHLHsXzBbHzv0Ufx6GM/wrPPv4bjzdTl5yNA5tjWncBFk6fgI3ffgUH9StFydD+eeernePzR/8L3f/BD/Nej38MP/vu/8ers2Tjd3kUtV/72A29XCufhEIoLDjGhV7ANgE7cBJ/4ZHSXXjMDn/jUp3Hl5VNQXRag7ut7dGK9ga27D2J4fQOmz7wGD3/sHoweVqNNzj7P1AlGXcZV7y7HO++uRFfUoi4XteJumoGpky+mo1iOe+77OKZeOhmlkSBOnzyGN+bNxZ49+1WLiu/NsS2pFhS1gsZNvgwPfuLjuPbqKzCkphw7t6zHnDlzsJq6iAMGD8U11H3+wqc/jksuqlPrVw8Cs2Go7aEyAmGEqFVaWkqiLmOEv07AxhYqQZjmhStKqdVKrTZ1Iy6BWChCBl6BCJl4ZXkJtcp4fgRxMs8wdzsrK/U3GQIhXMetK9oPw2oq0bR3F37322fxzvJVlKYK/SoqKS8ZJnX926MBTL16Oh588AGMqxuOIJni0sWLseCtRWhta7PXTa1Vqls3GVZF/8H4xEOfxr33fgSTJoxBK+2jhQsWYM68+di0bSv69StDZUUJ7Wb+yhdfV+jN4Wz2oUiHl3tVIbjlzyYhL/IwcC+TeqDUQrCsEmPGXISGUQ2orqrCqIYG9WkiPzbyoVtvwf333o3rPjAN/ckk2BeTUBlWVydWr12Dtq446kZPxOVXXIV7P3wXLmqoo+5XFBVV/RGNU/csXI6JEydi8MD+mDxuDEYOGaw+KVS1UN98CCIcKcOwkaNo/aNRO3gI6utGYtzYcbhowkTMuPFGfOyB+3DT9VejpjJCV0Fat70JasAtHDK9IwcbqYUWwZjxE3DFZZfguquvRCyWQFNzK2pH1uOqKy/HjGunobqyDCdOtKK5tQsjGsbgsksuxs3Tr6ZtLEfz8eNoaYthWP1YTJt2Ba695irUkWENHzaczLASQ6kLWT9mDG697UO4YtrlqOxXjTqq8zTqUk67ZAL61/SnLusYml+D2qF1tC8bMHP6VRgxbBC27tyDk+3dGDhkGB5+6JOo7d+P9nkNGsZehOG0vYMGD8bo0WNw0cQJZKzTcT+1hG+9ZSYG1VSr1mayu20wh/FMOdv82eitcn2E/ArJeUK3DPj+lIVoeycOHDyEto4O1e0LhYMYMHAA+lGLhj9xVC2ntDOMssaiOLB/D1pb25WZhUrKMWLkMFSURZDgTwQjITQdOoxDR45R6yWiWjLDamtRQyet+d6pcSv95fU42mn9bDStra1qeYzm9+9fQ3UZhJJwmMqg7q/Kq7LZQy4ngSOHDqrHOmLU+uJfURk5cjiiXd3Ye4C2qzOKKjLx+pFDqBwLJ0+0YO/+w+giEywtKyNjqkd5OETzj6GR6tveGUN5vyqMrBtBBhNXz6wdbTyqWmQB6m4OGtwfCep68+MxUdph/cg466m1G6FW647127Bq/Q7U1A6nlmUAYbTjheefwy9/9xIaW6K49sZb8Afqmg4fUIbujk7y+SBaWk+h6cgRMuU49aADKC8vx8BBg1Rrkj2cW7y8+/P6h9kvXijEjHqr3AsUMbnzBO9m06qLR3lcjaqTim/aM9xFNT8L5AabE3+1yxiW+sFMmh9X3y0N0XL9gIbuVtI7GR0v5+LMUEETXB82NbVSSqs8VVVKp+Yy1KQKj2TOJGp7KJ16UUtSf7BAXUkqk0vjn0TinBpOw11mVTOVTkETanPoxfuG78/x9vGnuUH+0ECloW3iR2d4OXW1dX2iCCXa0XHqBB77zmNY8PZafHD6TGrljcDeXVsxa/ZcbN11GInKgfjKV76Ef/3Hv0ZZgLqhXAe6iKhfeFEbx3XidfBX5rhuVA/VzVVVs9No3PdCL5LaeTZmRkYtzmulihMxufcB9pYEGV2ADEad2DSPY5WfGXOcVz1I8C8Jk6FowwzYLT7KYBuRMjllXDxJJy2ZoCmvxynCdaBXlFszJj3P56EZZ0zGDOKUT3kV/3QRrZ9/iZiTxqippVpCbNZJqN5kxNyKZVdXrUN7BdqzKScnD7LNqIqpfcQWruZwIjZ0yssmyuuMUIuv9ch+/Os3vomXX30dUeqmhyqr0XLqJLUA4+hXNQhXUdf7a3/7JVw/bTIVSEbM6yfz5OL0zyrxynmTeZud+56XEakZPbGTOEZyk6usTFyL5IqaUXukgCIvZIrY5BzVNged5vFc/W7IHQnneuNzro0C3dRNnbcc+Gx0vIjnqQXuZahzJGOZypcxw/Y7+rMXmOW8jIc0bY445+XWXNBuvaiapIWDyezEXs7p7Hy6j8cj9Ebb5cymRh1FmlE1dKRjkofRJjnJiR3LtMmTsXa3YdU7b+H1117D0rWbcLS1k5IGMGz4WFwy9XLceOMNmHbZZJSrXxbR5s3V1kXpmjhXmRY3agG9qXU5U6XDSzKq54qjZE+o5w7tkvV+0SU4y+FjrOuWb+0XNkVuciR2CxueQ50dGqaHQvowReZJdU6gVbsVyzVSJxmP8YpVIn5z1pWn6KRyKcNM6/aRnlJl9sjPqPBXLwPPNyl5DzFcH+4e6p8rp9YWL3GEgzN/CrPcDDmNUxqdl1tiBj3NuXT7TMOPmqTSEKnVE/YSldWxQF0Y4urpQ/5KW/ORJmzfcwAnW9tpfhADBw5BXd0Ide/OClBXnltpas/pvcc4amAPNaka0kp1lfUwAz3LZUEW9FrS1+WG3m9G6fA2p8OtT+7Wp7ZL6EmRd1f5CfcoDRNo72xFcwvfCOdHOTM3yT1wemvDc5Wra8Dv7qny5U3fglyY1C7rsif5hOITR5/QmRcHxuTloYGnnenMOhh7nBY75zhJ5tbJlDLT5ENdKqjLqk5tKoC7s3H+poNdMHu27oKnytbmwaSvMc1i1SjvhQzjzUWeDeBFqlqeoRzq6utWaIxMTTeVuYYhqxSDqocjEuL/PJSjEhc4RW5yFNyxDgSCQbqSr8Ybb89CPBxFlK/0PTarZ7jxlEp2juNDlatHk5hVeFmVyesccj5nGZnl98Tk0KlVXspk5mj0spS8kJnWWaIZ1+WquZTULFU57YnMUryis9NJTsamHkmmA6ge3o2nLm7q3mZAPwaizY3FFWGD4DTaJJxDjTa4Hq1LN7g4ezQXnIbXqGrmJQPtoFSdU+gprj/fQw2gOxpATcUw3DPjYxhcPUR9qJJ+H1QwFLnJJRCN8s9nR7B0zRz84tnvI1RF17ugMTl1zVcpdZCkNtXMVctz3HMpBC6FyzVywsu8rsXkdSvDDDOXpeAlPdempmhR+lwnnC/bGg1muTOdScPD9PRqjiOpGqWZztzO8XykSmeT45xkdLYpcIs0ob5hoZdrMtekLIwW6+Upg0ult1Mk5+TCSxqDsyb5cDU5dXXgUuIIBsJoaenGkH5j8fXP/Avqa0enfr1Z6EHRm1x3tB1hMrm3183GL557HNXDS2CV6Csa//yPDlkTMqlNNXPPkb8lMWtQQ1M2TThXk2uVafkZZ+KMcs6Es82vSdaOyFOiMylzTipgTM4Ux+90pNlRs+4jTm9HQzIBj6RS6xL1uxfc1+OO91K53PQ6qVqq778x/OstJTh88CSqAyPwj5/5N4wYOEpMLgdF3L51hiR1XCgS+B+YWEELAf6HytSas8K0lO9OJ0WJbFlKNI/j4hzK/lKBGvK9ISV7XiFS+VmmjDMsx6mzzZ8S7cOk3JY7FMqQW5qCRceWylL/hEyJjjNPc31CZICu4q+d0U5UseFUals4v0XzvCq9nNxyy59N6XXS22Wk5vG2kKHrX4eheUJOivzTVaCLWnKRUCkWrXsVP/vddzF4dCWCZUF0k+ElAhTcjqaas+vEsaE2vUi3Xrgw4PDkCOaWHA/5viPH++H9J1CVGI5vPvIdacnlgS4b/kH5Fd9sVuJNy3GVo8SUyk4rEhWZ7DAW8uMfk+NGmd0oVVc/Owp4npqtF6mBSFQsMu9MakwoBF+15NzhK589SvCoU4JQLEi8nhkXgMkRjkuguUIaCUIx4DQ486yhXKi9cWGYnCD4BLlAF46YnCAIvsaXJmea8GZomveCIFx4+NLkMpv0ac/HCYIPkOu2d/xpchQBqa9ipxCvE/yAiWkxOm/4zuRMC049H6fmCELxY+LaIAbnHd9+8KACQiJBEC54fGtyCmnKCcIFj79NThCECx4xOUEQfI2YnCAIvkZMThAEXyMmJwiCryl6k3N7SiT5+Ig8QiIIFzxFb3JuT4kof+MF8giJIFzw+Ka76vwSPo/yhklDTvAz6mKuR4UcFK3JmYaaMTdnw41bceZ38M08RgJCKFrs4E2LYWdwC1nxXXfVBIEYmuAnOM5dfzJMjC4vvumuCoIguHFBmJxc7AS/kJA+SsEUucn1tC/VrLfF4WAlw4J/esm5VCQqBul3K0FxzOJfSuT/san+zyb/aqKQD1+15PieRcIiK2PZQaJNTo+LyYn6ujhWAywysTTRUhZfsFPjNKWv4EIOitzkUkeY/7eqmVJmx0M9SegxiQehWFDx7FRGRPO4vmgL+ShykzMHmaMgSI33AGIJLR7X4vlZxHlEoj6mmENRHnJc29Mqpu1hwqLTlx1QyEnRmhwfWm6uW+pzdX2V43sW3NQP0lSQZoVouVHYRSHK61mc3qvc8otEHhSk+AnQi9+TIjPTc+lFBuccSmMuP+QL5AxFCVfbQle0HZFQBEvWvYQnn/53DBxZhkCEGvexuHbCJLrBf6ZQ/HmHViTXV+FM4BjlO3OZsKHxMv6oIRIqQ/PhNvQPjcLXHvl3DB1Uj1gshmCQL+9CJsVtcuQ80WgbQuEgVqx9Fr/6zf/CwEFsMDEk4mxy6Xcy3ILHK4WYnEpapHtV6Bs4w41DiXstPIzTMBwqR0szMLB6Kj73mf+DwYMaxORyUPQml6CWnBWOYfv6pzDr+X/G+PogQgE2OVpuRwpvoN7IbE51bndBAX4oCGmY2HH+r2D1matakFAtuWCoEo1HqGUXvhz3PvQ99BswBnG6qAcCRX6LvZcoepNDrAMIdaBp8y/x7uxv4aoJIZRGEsmWnDeKdBcIviMZsWkhmTI5nh0IV2HXfguHO6ZgxoM/Rkn1WDG5HBSxydlxEO2CFWrFic0/x+pZ/4RrJ1mIlNAS05I731vn1VcFIRfOuDUxRR7GYR0IVWPXvhD2tF+Kax58UkwuD0W/V3QsJBCIR5MPTqq59sAzHEjZVAiFrFMQ3MiMITNNQ92NDVCcs8ydOiEXRWtyfGhZ6msuJL7lqvzIeTPDSaZxZSoXXtIIQm9iB7wJbzY3Pnn1I1RCLnzQvtVWp78Qo6dcMQvPRl5xyysSeVU2kssS0F9dFIPzgk9MjnEccDn2gl9R4S5f6CoEH5icIPgEzxdn9dV8G7mi50NMThD6Cp6bZ7olp5NLmy4fRW1yfA0z1zR9V04QfI4d5MbmxOLyU7Qml/zo3B7oT1nzIC4o+AIyN35USsWz2Fw+ir4ll0IOtuADOKjdlAYbnDa64n2U//wh9+QEQfA1YnKCIPgaMTlBEHyNmJwgCL5GTE4QBF8jJicIgq8RkxMEwdeIyQmC4GvE5ARB8DVicoIg+BoxOUEQfI2YnCAIvubCMjn5MrPgG0wwS1Dno4hNrsdPMwiCf0kLdza2rD9RImTgg5ZcxkE2k5nH3sSDSNSXlYnbPJqp/3FTtkyCkyI2Offmuvm3q2li3OaLREUpMrgEn7rJf8Qp5KCoTY6Pt0YfaJ6O82iA3njL1JBFEz1klnkVl1eI3Mpwk1veXHIrw01ueXPJrQw3ueXNJbcy3OSWN5fcysgmt/zZ5JY/m9zyZ5Nb/iyyWJSJhxzbapqklpGxWSHyuQB7nfrXhEJurIT6HeVihKtNR7m7Awi3oX3TT/HenG/h4rEJlEYoQGLUmLf/8a4KCP55dJXFoljhqOMJo/woS/W4q7ylSqFi2ROc0Gti79vGZTrDwPm/oHpC6VSFvZTNJXmvbyGh6D2lXV3PcGx4xcNP7ivsCuSpNMcYRacSv6t4U1n1j/3zezxBJhepxI4DATTGr8C1D/wIZf3HIh6P07W7kLpfOBSxyemYsbo7yeTa0bn5Kbw7658xrKoVQYpqi+IvYPtagqZT7T6OGlLyCuh18ymdx6QqmddiuSr2qDe8pqYKFJDUGQV5TaGgCheQuBCT8560QJMrIHEhrSgPSXmblLnxO1ea89jV0fbHJkezwuU41FqG1vKrcc39j6F8wFjEYjEEg9x9FTIpepPjlpwV7kb72qex9Plvo666EyFqwVkUDQFlbvZV0I50Hk+oSLHjx9PWUymcnzN4Sa+Seruq6hamp0oQqsaecXbo3TCbo9pbqnXLmBaV27p0efnKTcNuTefH3sceSdU3H2Z7vNS5sP3rZU8493H28ikFbbtKQ6MUuXou1TuVN4AgTcUS1GIrqcC+UyG0VFyOGx5+FBWDxojJ5aCoTU51FqglFwjH0Lr8aSz5zbcxdWQZSkIUDnTQOThUK462UHdRdcAZU8kVdunoUFOJvewtlbS3TM5bjXVFvZebZnL2mDu0tKD6eoXL9J5eG6KH9PY/fFF15uQ5q27K81IPLihnYel4qK82M5K5zZIsn6fJ5GgyRtthlVVg0+F2NJVOwC1f+B7KaxvE5HJQ1CYX47doJ4KhBNqW/g7v/OpfMK2+H8oiITroUVqoW3KMftfwBvO0c54nCtlTBRcuyP6lzeJeiP1KNzl92YzSrEBpBTYcOo1DpWNx05cfRdmQUWJyOfDW3OjDJMOAWiKBRBCBeJCueCEahmmahjyPZCUCSQVsOed5Eu0uz3LLL8ott/2YTW75/SB+sdGRTJwG7HFLxbJOp+ex+RVyZbgwKXqTMxd0deVT3RIOEA4Ee6hOCvMy10SRqG+K4Vss/ChUUrRE90iMmDiNqhs2Qh6K2uTM4VbwvTc7CNjY9KaRlNFpg3PMVdNp+QWhj8DdVG6fadGL7yuqcUfU0iCVSsgFn+9Fjf4Unw3ODgp18PWQx9QS+jNdAN3S00NOd65R6y5AXlCb0ku41SmfmN6sUz7c6pRLTLHV10zpaWN09sse10uEfBS9yTmJq9YcHXjVjI/rYGAX1E5IcKinS9tgLnEguc13l9s68skYcDbRRughpXVb59kosy75pF6OuuUSp3db59kqs065pF5cl4y6uYpebus7W7nVK7dSmCldEse1jkhNz/RCT3xkcvpg68Ofbk32TDNIDr0EiA5SRp8EXl69Tar+PXEu45p40ZmQqw6ZeE3rVjc39Ramnue6vqxzT++U6keKv7uacVqrl+sVmoKX4kLJjNt5colfemibJj+nlENcKufwSlq98klnyVm+WcZDJcqUVyqHNyi5e91cZHCMZsWkca1fpuy0XqDkrnVzk8ExmhfX+mVIeH/xVXdVo43JmJOWHiTjLTnuTOMubVkswjaxbDImqKdz40yRP7W3ND2gTHbNXclc5nUd5zqdQZmCPe6FYqgvLzdGV2j5jMnDw/T8Z1LahYkPTI7DKKEfH7HJDIg0o8rApM2mFKaM7EqtJ7+cJpxuyPll22lWZaZ1TjvlXGZezuXZ5DWdkbNuXuRWRpqo2WVerssz5DWdkVudMuVMl5nfKbPcvDKX55PJY3okaorH7aanfhdy4ZuWnDE587kTx0CaUdlBkh4W+UJUy6C+IuZBnCuzjFwqFLcynDIk9wEPc8jAo15UKG5lZEpBI271y5TJYEbzqVDcysiUgkbc6ucmO3nBYsxQk5prjE7Ije9MTgWBfewzgyw1opNometxbjHGNPOpN0jV15sYVR+ayKyfm3qDzDrlk1u9sqk3cKtTLrnVK5uE9w9f3ZPLDCZz49fcEzlb3ALdTX0Ft7plU1/ArV7Z1Bdwq1c2Ce8fAW4B+Ua0QTQQifwvjnUV7y7ngShNPjI5fdSTB18k8rPsN/dzQeSUDx8hEQRBSOGflpx68cXNMU8k8qm4PSfx7k3+uifHUodfJPK56C0ll/NAlJR0VwVB8DW++uCh5xVOJPKpONb5RROi3PKBycWTQ4bG7AAgWS4yy0SiYpY9ouI97XwQZaqIu6t8lM2wUAmCcKHgg3tyTuNyGlk2CYJwIVH83VV+JYdkYyKR78XRTkMWj4tyqvhbcnyjTWGG9sH3IEHo6zijO/Ud7FSsC/kp4pYcGVVyaCt58Dka8otfcZGoWEQuF1djFL/8gRuPq3NAlEs++HSVjret5Men+v/YJP81pf6/NrQgTZynZ3nxHHJL7ya3vLnkVsb5lFud8smtnPMlt/rkk1s550tu9cktt3BNIKZtTYsMT72STxeIssk3DwNTHKg39dNKNKr+rTSNp4kSKKlxTtuz2c9zsqk3cFtPNvUF3OqVTb1FIWVn1imfeoNzUa42N9OOM/9umgJZyItvWnL63hz/53F9+FUY2OPJX+1VYaHHk/+VXLX+0hVwkfnJ6d6QWx2cMmm8pDVyln8uZcrOXJ+bvKZjOdeRT4WkN2md68olr2md68inQtKr8jkus4rQ/1ZfD9POBZGbrNbW1qK9HPBxtrq7YYUTOL3sBbzz9H9g2vB+qIiEEIvF+J/qpzATamv5jUyOdoA9g6Dl/EeTnNKZtVBMia6Ygu1EudfDS1OlFVIu43Ubzl25vVnfVNn5y6U3dWw1XstlspZ9FuVmLZPJKJfflddllM7z+bLMMRssLcO2xjYcLmnA9Z//DspqR6l4DwaDOrGQhm+6qyos1LceSORUFt+z4GCxxSZnWbS5Ad2SYyFAnddAUInHoZYHEHdRgpcVIsrTQy7puNwELeshsyxTbmlZzuU0dFtXTlE+L/Vl9Vg3i+e7yS0ty7ncHndbV05RXi91zloPs8xWPFs6lknnHCe5rS+rKK+X+qoLsorZ7OL47Y5p0xNyY506dapo95K6unV3AdSSO0UtuWW//S6mDC1HhIwsHue7FzoNR0WAg8dGB4bdXVViUrsh8yqaTJUnoCwOToJCTw174Jxtp9W4pHdJq2dlKTuJTmvqy8NsOXSxvB8Yl1TOWb1cX0b971oaZsuhq2vXl4+Fs0oGk1knVqN50/JC+ktOZq0BkyronNaXUfuNo0fHLmPKT/CFm4fxBELl5dh1pB1NkVG48Qv/gfIh0pLLRVGbnDr60U4yuQAOL5+DN37zQwytCIAPdZyCQd2kpTTUhlMvg9lgDhvnxqv+ezJdKr1OmQ1nCc5U2XOcDc61pWOW8Hr1uHsNMkswqd7P+jKF7mO/1pfzGqVIWHH1oRnHdbi0HMfbuhCtbsBdX/xnVNbWi8nloHhNzq51vLsTgUgE65atwK9//ktUVVYhGI4gTgedAytlW+lBlgwjms1DtZSupGqYvPlr8BrQjEmZPcfZkLm2FGYJr1ePu9egL9aXEZNLkZmf1xUjk1PPPSEUDuNEy3FU1FThka98GYOHDkU0GkUoFNJZhDSslpaW7Me1L2PXuru7G+FIGG8t3Y3v/eQPGDB0LKxwOZlcnDyLu6juwcXZuWPA3QBdViqdCl8dW5rkIjMjF3ZiZZQe4PUXQgFV8JaYoQxe68tlek1q8FznYqsv4zGxSlZoRVIEyeS4exxIxBEOJ3D06D4MqIzh23/3Z6gbViMmlwPr5MmTXiOrb8G1ppjp7IqjJBLAvHca8Z8//iNqRlxMLblyar47Ta7nJvIc/UBlT9znMtnmOzmTQH4/y2X6Sp2Lrb5Mb5WbjiqBjD2UiKE0FMOxIzsxsKId//Z3H0PDsCoxuRyk7sYXI+qGmw4g/rQpSkEQpXDghn2MDE4NjXia0jjFdzkyZT8uTCVmitfjNj9TnK43xPDQbZ1nq8x15RPjNt9Nbus7W7mtJ5cYt/lucltfNnlNn7mOwsQ9iyjFb1cgrBQHm5m+z5x+V1lwo+gfBgZ/ispDnrYPON+kTdAVL072pp8Sp1ciSqJpEi9jQYnvczhFlkhDi4bp4nnnWpnrONdyW+fZym0950pu6ztbmXIz13UulLmucy8dixzfOo75q11R8j7+qhdoisZU/Iuyq8hNjk0pqsZpRFkc32PTBsefrdJyFRZp3/pTLzMOiwLFoVS68/HiWrP01Tq/9Fa+v69irK/XOveF+vLL1Dkl1aajeOdY1tHJ5scXa5rqcV6InOK2dBFDB5rE0OaooQ4JhsMiNaWjxEWZ0Dy+py0SvS+iENTSxssRrqCFpuPLsc69FR3/yQgXslC8LTk6wPyenKZuKx9wGlXBws17Nc6jPFSyl4tERabUBJ+2ekjRTLNE+VTc3VX7fhzLfMPBUgZnLJCvdjzXKX0FFIn6pNQjRT2VNkbxrabUqI5/UXYVcXeV3Ew5mhMzbQ9Vk86G40LNF4n6sFSceqWgxBcsRX5PzgQHH249NPP4e6S6VadmEjSRvPEhEvVR2fHbA9cWHmOGQjaK/hES/iVVNU4bo35dxD7m+re5aEKJF4pExSJ6yyq+EZPq3maeD6KeKvKWXHYoHARBEIq/JZcU2xoNuaGv/5u+sTkeikQ+Ev+lKeNcEKXJPyZHYtQwY75I5AfRG0lFeUoZaUQ95dvuqiAIAlP8LTnaCB7SG485JAj+gqNdRbyKdU2P80HUQ/7qrrJUEKijLxL5TDqu+aWGIk+S7qogCL7GV5+u8oVOXeTUmEjkN6WeGrCj3f1cEKXJB994cKCPuyD4FJdvQgh5KW6TS34NhnGOC4IfkXg/E3zQXdVNdtWSJ1RjjufLS15+enFgq2DnIZmbkj3J8S7KqqI3OXpzjNuBkDr6IpFvpF80mnynF88X5ZR8uioIgq/xQXc19UsM+urG0zzKb4LgJ3SM2wFujzrPBZGbfPMIiQ6BOPS/MVJHXyTymTi01Zsepze3c0GULt90V/lHMvWBVxP2iCAIFzo+asnx1U11VtVQj8lLXv556au4iW97nh3/ouzyjcmZF00kA0Ek8pNSse70O8d8kat88I0H3TVVP3cuD0cKPsWOcvXOSKR7p8hNzr6c8XvyH30Igp8w8a3HTZTruWJ1Xiju7iriyX9ko4b2oedpHQCpkGATFImKVuoes32fWcW6/t/5/DBB8nwQuaroP13lALDHaNyMGoPT2N+AEYmKRM6XmaZh0vRMOhPwQi788+mqkX34zUPCajJO7TqRqChE1pWmuBoGlOiE5SHFtWrH8R+NqzjnqLfHRekqfpOjg27G9UHnyxxPm4NOQUILjAIiUZ8W3yhPn07GLsWzMjgd3GxrdoyLcqnou6t09BV8yPW4GksFgf3S6DGRqO8qM0b5XYe2Njw9nxp1iPM/UzcngJCVIm/J8QcPuluqbsny/TklDgCaVi8KCnrTt22BWKZooSdR/h55c8mtDDf5vVxO71aOm1zzZ5NL/mxyzZ9NLvmzyTV/NrnkdxXFqpL+MI3Hdazr+Wo5mVvcCtM0tfWSy0XZZG3fvp12U3FCIYHOWAylwQjmrT6GH/xqLgaOmIRgsBSxaLf+qlfySsdXPT1MveurohnPhU7HZeTeXcVWLsPl9Y1y9TAfZv2FlMvkK7svlMtwai7Vmd5KBOkiTuZGMR+JBHCycS8Gl7fgm391J0YMrkCMzoNgMGinFpwUrcnpMGCTi6MsGMbcFYfw+E+fR9XAOtWY41ZbKkjMWJYwy/g0Nh1axgWa8azpXMhZLpGsTh8pl9PTlS8rZ1wukSt5slyvONafs9xC6+mxXE6XjAkveC+X78PxPTdtdAbOzwYWoIiPojQSwunmRgwbkMC3vvIAhtdWicnlwNq2bVshR6uPwFXWV0c2uVI6uCu3NeOFWQsQilRQkND1jg66hgPEOczAEX9Z8ZImEz7BchnGmXImdfGC13ILXX+xleuVMyk3bx7b5FQiZ0LOqO/IxekVDgUQ72zDwOogPv6RmRg0QEwuF0Vschq+RxEgQ2lpj6Hp2EnVReVD7aU7VShcIoebIBRCoXGj0+r41e+pOdxDCdA0212IZg8ZVI0Satmpe0+q5SpkUqQml0IfdBrSiDY8muixRUW9icIFhmrJ2d3hVORqA1O3YcjMEhTwASugLvDibbmxtm7dWrQOwBVnqWNMR58/jXI1uYLunwjC+03PeNVzdEdWexp3a+kVKP6nwHoba8uWLUXtAKry5t6XHQF88NMp6k0UhB4RrFpvKt4zY13IpOhNzsD3JAxyb0IQBIO1efNm3zRzjNGJyQmCYLA2bdrkG5MTBEHIRO5aCoLga6yNGzdKS04QBN8iLTlBEHyNmJwgCL7G2rBhg3RXBUHwLdb69evF5ARB8C3SXRUEwddY69atk5acIAi+xVq7dq2YnCAIvkW6q4Ig+BprzZo10pITBMG3WKtXrxaTEwTBpwD/H8z3PjaOdL/8AAAAAElFTkSuQmCC)"
      ],
      "metadata": {
        "id": "5YGSaTiDN5o4"
      }
    },
    {
      "cell_type": "markdown",
      "source": [
        "The digits dataset consists of 8X8 pixel images of digits. The images attribute of the dataset stores 8x8 arrays of grayscale values for each image. We will use these arrays to visualize the first 4 images. The target attribute of the dataset stores the digit each image represents"
      ],
      "metadata": {
        "id": "ZandG1JrOL43"
      }
    },
    {
      "cell_type": "markdown",
      "source": [
        "**Importing LIBRARIES**"
      ],
      "metadata": {
        "id": "GlyOOd9CPJwL"
      }
    },
    {
      "cell_type": "code",
      "source": [
        "import pandas as pd"
      ],
      "metadata": {
        "id": "ivr6zaFLOIS7"
      },
      "execution_count": null,
      "outputs": []
    },
    {
      "cell_type": "code",
      "source": [
        "import numpy as np"
      ],
      "metadata": {
        "id": "4MXp8CS9O_xR"
      },
      "execution_count": null,
      "outputs": []
    },
    {
      "cell_type": "code",
      "source": [
        "import matplotlib.pyplot as plt"
      ],
      "metadata": {
        "id": "-vRGfTxMPB0T"
      },
      "execution_count": null,
      "outputs": []
    },
    {
      "cell_type": "markdown",
      "source": [
        "# Import Data"
      ],
      "metadata": {
        "id": "h7AgtQChPOn8"
      }
    },
    {
      "cell_type": "code",
      "source": [
        "from sklearn.datasets import load_digits"
      ],
      "metadata": {
        "id": "QblKzolAPGHH"
      },
      "execution_count": null,
      "outputs": []
    },
    {
      "cell_type": "code",
      "source": [
        "df=load_digits()"
      ],
      "metadata": {
        "id": "EFcxXhwLPX0V"
      },
      "execution_count": null,
      "outputs": []
    },
    {
      "cell_type": "code",
      "source": [
        "_, axes=plt.subplots(nrows=1,ncols=4,figsize=(10,3))\n",
        "for ax,image,label in zip(axes,df.images,df.target):\n",
        "  ax.set_axis_off()\n",
        "  ax.imshow(image,cmap=plt.cm.gray_r,interpolation=\"nearest\")\n",
        "  ax.set_title(\"Training: %i\" %label)"
      ],
      "metadata": {
        "colab": {
          "base_uri": "https://localhost:8080/",
          "height": 183
        },
        "id": "rR0fNLluPmL-",
        "outputId": "ded6e674-06f1-4eed-b48e-32eef669a997"
      },
      "execution_count": null,
      "outputs": [
        {
          "output_type": "display_data",
          "data": {
            "text/plain": [
              "<Figure size 1000x300 with 4 Axes>"
            ],
            "image/png": "[encoded data removed]"
          },
          "metadata": {}
        }
      ]
    },
    {
      "cell_type": "markdown",
      "source": [
        "# **Data Preprocessing**"
      ],
      "metadata": {
        "id": "i6rX8zxrQkz4"
      }
    },
    {
      "cell_type": "code",
      "source": [
        "df.images.shape"
      ],
      "metadata": {
        "colab": {
          "base_uri": "https://localhost:8080/"
        },
        "id": "pe5YOYuMQMpe",
        "outputId": "97ec4db5-2ecc-4492-ea44-2160b5773970"
      },
      "execution_count": null,
      "outputs": [
        {
          "output_type": "execute_result",
          "data": {
            "text/plain": [
              "(1797, 8, 8)"
            ]
          },
          "metadata": {},
          "execution_count": 10
        }
      ]
    },
    {
      "cell_type": "code",
      "source": [
        "df.images[0]"
      ],
      "metadata": {
        "colab": {
          "base_uri": "https://localhost:8080/"
        },
        "id": "QEvC-jgBRkCq",
        "outputId": "db88a302-603e-49aa-e17d-7a6864e582be"
      },
      "execution_count": null,
      "outputs": [
        {
          "output_type": "execute_result",
          "data": {
            "text/plain": [
              "array([[ 0.,  0.,  5., 13.,  9.,  1.,  0.,  0.],\n",
              "       [ 0.,  0., 13., 15., 10., 15.,  5.,  0.],\n",
              "       [ 0.,  3., 15.,  2.,  0., 11.,  8.,  0.],\n",
              "       [ 0.,  4., 12.,  0.,  0.,  8.,  8.,  0.],\n",
              "       [ 0.,  5.,  8.,  0.,  0.,  9.,  8.,  0.],\n",
              "       [ 0.,  4., 11.,  0.,  1., 12.,  7.,  0.],\n",
              "       [ 0.,  2., 14.,  5., 10., 12.,  0.,  0.],\n",
              "       [ 0.,  0.,  6., 13., 10.,  0.,  0.,  0.]])"
            ]
          },
          "metadata": {},
          "execution_count": 11
        }
      ]
    },
    {
      "cell_type": "code",
      "source": [
        "df.images[0].shape"
      ],
      "metadata": {
        "colab": {
          "base_uri": "https://localhost:8080/"
        },
        "id": "_AW8XmIXRmwe",
        "outputId": "84679364-7d0b-4ec9-e708-24bf843181fa"
      },
      "execution_count": null,
      "outputs": [
        {
          "output_type": "execute_result",
          "data": {
            "text/plain": [
              "(8, 8)"
            ]
          },
          "metadata": {},
          "execution_count": 12
        }
      ]
    },
    {
      "cell_type": "code",
      "source": [
        "len(df.images)"
      ],
      "metadata": {
        "colab": {
          "base_uri": "https://localhost:8080/"
        },
        "id": "w-J6Nye6RqMx",
        "outputId": "344bfa34-6ff3-45da-bd9a-c84f67daec71"
      },
      "execution_count": null,
      "outputs": [
        {
          "output_type": "execute_result",
          "data": {
            "text/plain": [
              "1797"
            ]
          },
          "metadata": {},
          "execution_count": 13
        }
      ]
    },
    {
      "cell_type": "code",
      "source": [
        "n_samples=len(df.images)\n",
        "data=df.images.reshape(n_samples,-1)"
      ],
      "metadata": {
        "id": "2NFYaorFRslU"
      },
      "execution_count": null,
      "outputs": []
    },
    {
      "cell_type": "code",
      "source": [
        "data[0]"
      ],
      "metadata": {
        "colab": {
          "base_uri": "https://localhost:8080/"
        },
        "id": "00qH_8XeSCqv",
        "outputId": "1ac6d91b-99be-43e8-a9bf-31dca2161081"
      },
      "execution_count": null,
      "outputs": [
        {
          "output_type": "execute_result",
          "data": {
            "text/plain": [
              "array([ 0.,  0.,  5., 13.,  9.,  1.,  0.,  0.,  0.,  0., 13., 15., 10.,\n",
              "       15.,  5.,  0.,  0.,  3., 15.,  2.,  0., 11.,  8.,  0.,  0.,  4.,\n",
              "       12.,  0.,  0.,  8.,  8.,  0.,  0.,  5.,  8.,  0.,  0.,  9.,  8.,\n",
              "        0.,  0.,  4., 11.,  0.,  1., 12.,  7.,  0.,  0.,  2., 14.,  5.,\n",
              "       10., 12.,  0.,  0.,  0.,  0.,  6., 13., 10.,  0.,  0.,  0.])"
            ]
          },
          "metadata": {},
          "execution_count": 15
        }
      ]
    },
    {
      "cell_type": "code",
      "source": [
        "data[0].shape"
      ],
      "metadata": {
        "colab": {
          "base_uri": "https://localhost:8080/"
        },
        "id": "Tba6SxrRSEFI",
        "outputId": "7c3b3f23-171d-4434-a8f2-b74d0b623a75"
      },
      "execution_count": null,
      "outputs": [
        {
          "output_type": "execute_result",
          "data": {
            "text/plain": [
              "(64,)"
            ]
          },
          "metadata": {},
          "execution_count": 16
        }
      ]
    },
    {
      "cell_type": "code",
      "source": [
        "data.shape"
      ],
      "metadata": {
        "colab": {
          "base_uri": "https://localhost:8080/"
        },
        "id": "RKb6OnHdSGQ2",
        "outputId": "a40c926b-8d56-4499-a852-748888f1d7ab"
      },
      "execution_count": null,
      "outputs": [
        {
          "output_type": "execute_result",
          "data": {
            "text/plain": [
              "(1797, 64)"
            ]
          },
          "metadata": {},
          "execution_count": 17
        }
      ]
    },
    {
      "cell_type": "markdown",
      "source": [
        "**Scaling image data**"
      ],
      "metadata": {
        "id": "dpiWN2DUSM6s"
      }
    },
    {
      "cell_type": "code",
      "source": [
        "data.min()"
      ],
      "metadata": {
        "colab": {
          "base_uri": "https://localhost:8080/"
        },
        "id": "sFK_yp2ZSLaR",
        "outputId": "bad18b36-e53b-42f5-d25c-74a807239e9f"
      },
      "execution_count": null,
      "outputs": [
        {
          "output_type": "execute_result",
          "data": {
            "text/plain": [
              "0.0"
            ]
          },
          "metadata": {},
          "execution_count": 18
        }
      ]
    },
    {
      "cell_type": "code",
      "source": [
        "data.max()"
      ],
      "metadata": {
        "colab": {
          "base_uri": "https://localhost:8080/"
        },
        "id": "ckESVReQSRtH",
        "outputId": "2274467e-74d7-4ba4-d6f8-754f847394dc"
      },
      "execution_count": null,
      "outputs": [
        {
          "output_type": "execute_result",
          "data": {
            "text/plain": [
              "16.0"
            ]
          },
          "metadata": {},
          "execution_count": 19
        }
      ]
    },
    {
      "cell_type": "code",
      "source": [
        "data=data/16"
      ],
      "metadata": {
        "id": "6m97MxU8STZ4"
      },
      "execution_count": null,
      "outputs": []
    },
    {
      "cell_type": "code",
      "source": [
        "data.min()"
      ],
      "metadata": {
        "colab": {
          "base_uri": "https://localhost:8080/"
        },
        "id": "p-KNtjblSVgW",
        "outputId": "73390664-5d90-482a-a9d0-47647270749e"
      },
      "execution_count": null,
      "outputs": [
        {
          "output_type": "execute_result",
          "data": {
            "text/plain": [
              "0.0"
            ]
          },
          "metadata": {},
          "execution_count": 24
        }
      ]
    },
    {
      "cell_type": "code",
      "source": [
        "data.max()"
      ],
      "metadata": {
        "colab": {
          "base_uri": "https://localhost:8080/"
        },
        "id": "5quVooh0SbXj",
        "outputId": "5fe22e3e-78d4-42b9-bbf5-24e87c06ab40"
      },
      "execution_count": null,
      "outputs": [
        {
          "output_type": "execute_result",
          "data": {
            "text/plain": [
              "0.0625"
            ]
          },
          "metadata": {},
          "execution_count": 25
        }
      ]
    },
    {
      "cell_type": "code",
      "source": [
        "data[0]"
      ],
      "metadata": {
        "colab": {
          "base_uri": "https://localhost:8080/"
        },
        "id": "5JlDg7iFSgqm",
        "outputId": "5a0b594d-dbfe-4bb5-b8eb-673898cf3e9e"
      },
      "execution_count": null,
      "outputs": [
        {
          "output_type": "execute_result",
          "data": {
            "text/plain": [
              "array([0.        , 0.        , 0.01953125, 0.05078125, 0.03515625,\n",
              "       0.00390625, 0.        , 0.        , 0.        , 0.        ,\n",
              "       0.05078125, 0.05859375, 0.0390625 , 0.05859375, 0.01953125,\n",
              "       0.        , 0.        , 0.01171875, 0.05859375, 0.0078125 ,\n",
              "       0.        , 0.04296875, 0.03125   , 0.        , 0.        ,\n",
              "       0.015625  , 0.046875  , 0.        , 0.        , 0.03125   ,\n",
              "       0.03125   , 0.        , 0.        , 0.01953125, 0.03125   ,\n",
              "       0.        , 0.        , 0.03515625, 0.03125   , 0.        ,\n",
              "       0.        , 0.015625  , 0.04296875, 0.        , 0.00390625,\n",
              "       0.046875  , 0.02734375, 0.        , 0.        , 0.0078125 ,\n",
              "       0.0546875 , 0.01953125, 0.0390625 , 0.046875  , 0.        ,\n",
              "       0.        , 0.        , 0.        , 0.0234375 , 0.05078125,\n",
              "       0.0390625 , 0.        , 0.        , 0.        ])"
            ]
          },
          "metadata": {},
          "execution_count": 26
        }
      ]
    },
    {
      "cell_type": "markdown",
      "source": [
        "# **Train Test split data**"
      ],
      "metadata": {
        "id": "ckFLas8USmp_"
      }
    },
    {
      "cell_type": "code",
      "source": [
        "from sklearn.model_selection import train_test_split"
      ],
      "metadata": {
        "id": "CM6lTUgUSiKq"
      },
      "execution_count": null,
      "outputs": []
    },
    {
      "cell_type": "code",
      "source": [
        "X_train,X_test,y_train,y_test=train_test_split(data,df.target,test_size=0.3)"
      ],
      "metadata": {
        "id": "iIgJ9ebsS0Ze"
      },
      "execution_count": null,
      "outputs": []
    },
    {
      "cell_type": "code",
      "source": [
        "X_train.shape,X_test.shape,y_train.shape,y_test.shape"
      ],
      "metadata": {
        "colab": {
          "base_uri": "https://localhost:8080/"
        },
        "id": "bpqm5HBMTCdt",
        "outputId": "ad8573d2-5b30-4b13-cbdb-446e6e898186"
      },
      "execution_count": null,
      "outputs": [
        {
          "output_type": "execute_result",
          "data": {
            "text/plain": [
              "((1257, 64), (540, 64), (1257,), (540,))"
            ]
          },
          "metadata": {},
          "execution_count": 30
        }
      ]
    },
    {
      "cell_type": "markdown",
      "source": [
        "# **Random Forest Model**"
      ],
      "metadata": {
        "id": "jJJFEUVtTNTb"
      }
    },
    {
      "cell_type": "code",
      "source": [
        "from sklearn.ensemble import RandomForestClassifier"
      ],
      "metadata": {
        "id": "1_zFQrX8TJmm"
      },
      "execution_count": null,
      "outputs": []
    },
    {
      "cell_type": "code",
      "source": [
        "rf=RandomForestClassifier()"
      ],
      "metadata": {
        "id": "vT2jDyGqTXyF"
      },
      "execution_count": null,
      "outputs": []
    },
    {
      "cell_type": "code",
      "source": [
        "rf.fit(X_train,y_train)"
      ],
      "metadata": {
        "colab": {
          "base_uri": "https://localhost:8080/",
          "height": 74
        },
        "id": "niID6ggNTb9-",
        "outputId": "d109adc8-3abe-4570-8fa0-b53a9ede90d6"
      },
      "execution_count": null,
      "outputs": [
        {
          "output_type": "execute_result",
          "data": {
            "text/plain": [
              "RandomForestClassifier()"
            ],
            "text/html": [
              "<style>#sk-container-id-1 {color: black;background-color: white;}#sk-container-id-1 pre{padding: 0;}#sk-container-id-1 div.sk-toggleable {background-color: white;}#sk-container-id-1 label.sk-toggleable__label {cursor: pointer;display: block;width: 100%;margin-bottom: 0;padding: 0.3em;box-sizing: border-box;text-align: center;}#sk-container-id-1 label.sk-toggleable__label-arrow:before {content: \"▸\";float: left;margin-right: 0.25em;color: #696969;}#sk-container-id-1 label.sk-toggleable__label-arrow:hover:before {color: black;}#sk-container-id-1 div.sk-estimator:hover label.sk-toggleable__label-arrow:before {color: black;}#sk-container-id-1 div.sk-toggleable__content {max-height: 0;max-width: 0;overflow: hidden;text-align: left;background-color: #f0f8ff;}#sk-container-id-1 div.sk-toggleable__content pre {margin: 0.2em;color: black;border-radius: 0.25em;background-color: #f0f8ff;}#sk-container-id-1 input.sk-toggleable__control:checked~div.sk-toggleable__content {max-height: 200px;max-width: 100%;overflow: auto;}#sk-container-id-1 input.sk-toggleable__control:checked~label.sk-toggleable__label-arrow:before {content: \"▾\";}#sk-container-id-1 div.sk-estimator input.sk-toggleable__control:checked~label.sk-toggleable__label {background-color: #d4ebff;}#sk-container-id-1 div.sk-label input.sk-toggleable__control:checked~label.sk-toggleable__label {background-color: #d4ebff;}#sk-container-id-1 input.sk-hidden--visually {border: 0;clip: rect(1px 1px 1px 1px);clip: rect(1px, 1px, 1px, 1px);height: 1px;margin: -1px;overflow: hidden;padding: 0;position: absolute;width: 1px;}#sk-container-id-1 div.sk-estimator {font-family: monospace;background-color: #f0f8ff;border: 1px dotted black;border-radius: 0.25em;box-sizing: border-box;margin-bottom: 0.5em;}#sk-container-id-1 div.sk-estimator:hover {background-color: #d4ebff;}#sk-container-id-1 div.sk-parallel-item::after {content: \"\";width: 100%;border-bottom: 1px solid gray;flex-grow: 1;}#sk-container-id-1 div.sk-label:hover label.sk-toggleable__label {background-color: #d4ebff;}#sk-container-id-1 div.sk-serial::before {content: \"\";position: absolute;border-left: 1px solid gray;box-sizing: border-box;top: 0;bottom: 0;left: 50%;z-index: 0;}#sk-container-id-1 div.sk-serial {display: flex;flex-direction: column;align-items: center;background-color: white;padding-right: 0.2em;padding-left: 0.2em;position: relative;}#sk-container-id-1 div.sk-item {position: relative;z-index: 1;}#sk-container-id-1 div.sk-parallel {display: flex;align-items: stretch;justify-content: center;background-color: white;position: relative;}#sk-container-id-1 div.sk-item::before, #sk-container-id-1 div.sk-parallel-item::before {content: \"\";position: absolute;border-left: 1px solid gray;box-sizing: border-box;top: 0;bottom: 0;left: 50%;z-index: -1;}#sk-container-id-1 div.sk-parallel-item {display: flex;flex-direction: column;z-index: 1;position: relative;background-color: white;}#sk-container-id-1 div.sk-parallel-item:first-child::after {align-self: flex-end;width: 50%;}#sk-container-id-1 div.sk-parallel-item:last-child::after {align-self: flex-start;width: 50%;}#sk-container-id-1 div.sk-parallel-item:only-child::after {width: 0;}#sk-container-id-1 div.sk-dashed-wrapped {border: 1px dashed gray;margin: 0 0.4em 0.5em 0.4em;box-sizing: border-box;padding-bottom: 0.4em;background-color: white;}#sk-container-id-1 div.sk-label label {font-family: monospace;font-weight: bold;display: inline-block;line-height: 1.2em;}#sk-container-id-1 div.sk-label-container {text-align: center;}#sk-container-id-1 div.sk-container {/* jupyter's `normalize.less` sets `[hidden] { display: none; }` but bootstrap.min.css set `[hidden] { display: none !important; }` so we also need the `!important` here to be able to override the default hidden behavior on the sphinx rendered scikit-learn.org. See: https://github.com/scikit-learn/scikit-learn/issues/21755 */display: inline-block !important;position: relative;}#sk-container-id-1 div.sk-text-repr-fallback {display: none;}</style><div id=\"sk-container-id-1\" class=\"sk-top-container\"><div class=\"sk-text-repr-fallback\"><pre>RandomForestClassifier()</pre><b>In a Jupyter environment, please rerun this cell to show the HTML representation or trust the notebook. <br />On GitHub, the HTML representation is unable to render, please try loading this page with nbviewer.org.</b></div><div class=\"sk-container\" hidden><div class=\"sk-item\"><div class=\"sk-estimator sk-toggleable\"><input class=\"sk-toggleable__control sk-hidden--visually\" id=\"sk-estimator-id-1\" type=\"checkbox\" checked><label for=\"sk-estimator-id-1\" class=\"sk-toggleable__label sk-toggleable__label-arrow\">RandomForestClassifier</label><div class=\"sk-toggleable__content\"><pre>RandomForestClassifier()</pre></div></div></div></div></div>"
            ]
          },
          "metadata": {},
          "execution_count": 33
        }
      ]
    },
    {
      "cell_type": "markdown",
      "source": [
        "# **Predict Test Data**"
      ],
      "metadata": {
        "id": "N4Jz0SbxTjvu"
      }
    },
    {
      "cell_type": "code",
      "source": [
        "y_pred=rf.predict(X_test)"
      ],
      "metadata": {
        "id": "eAp_ABYATico"
      },
      "execution_count": null,
      "outputs": []
    },
    {
      "cell_type": "code",
      "source": [
        "y_pred"
      ],
      "metadata": {
        "colab": {
          "base_uri": "https://localhost:8080/"
        },
        "id": "39J1iZVsTrIv",
        "outputId": "3c05c9f4-66ba-460a-8c05-53b970012463"
      },
      "execution_count": null,
      "outputs": [
        {
          "output_type": "execute_result",
          "data": {
            "text/plain": [
              "array([1, 5, 4, 9, 6, 8, 1, 6, 6, 4, 2, 6, 7, 0, 1, 8, 2, 7, 5, 0, 4, 2,\n",
              "       9, 1, 4, 4, 4, 8, 2, 0, 3, 3, 4, 1, 5, 7, 1, 0, 2, 5, 8, 2, 4, 4,\n",
              "       8, 4, 7, 9, 0, 9, 7, 5, 8, 1, 4, 6, 1, 7, 3, 5, 4, 5, 2, 6, 3, 1,\n",
              "       5, 5, 9, 0, 9, 9, 9, 3, 0, 7, 8, 1, 5, 7, 6, 5, 8, 1, 3, 6, 8, 1,\n",
              "       0, 9, 8, 0, 4, 0, 9, 2, 6, 7, 8, 1, 2, 6, 1, 5, 9, 1, 6, 9, 2, 2,\n",
              "       3, 5, 5, 8, 3, 7, 9, 1, 9, 6, 0, 7, 1, 3, 2, 4, 7, 3, 3, 4, 4, 9,\n",
              "       4, 4, 1, 2, 0, 4, 7, 0, 4, 1, 2, 8, 9, 1, 9, 8, 0, 5, 8, 1, 3, 0,\n",
              "       1, 2, 2, 2, 0, 9, 6, 8, 5, 6, 5, 4, 7, 9, 4, 9, 5, 2, 0, 3, 4, 8,\n",
              "       2, 4, 7, 4, 8, 4, 4, 4, 8, 1, 1, 8, 3, 8, 6, 8, 8, 2, 3, 8, 4, 6,\n",
              "       5, 6, 8, 4, 1, 1, 5, 1, 8, 1, 0, 0, 2, 4, 7, 2, 6, 3, 7, 5, 3, 4,\n",
              "       0, 6, 7, 0, 0, 3, 4, 6, 1, 5, 5, 8, 1, 5, 6, 9, 2, 6, 2, 5, 6, 6,\n",
              "       1, 6, 3, 1, 2, 8, 9, 5, 7, 3, 4, 2, 7, 4, 1, 2, 5, 2, 4, 1, 3, 1,\n",
              "       4, 6, 8, 1, 6, 6, 7, 8, 9, 8, 9, 8, 7, 1, 0, 7, 9, 2, 8, 0, 0, 8,\n",
              "       8, 0, 2, 8, 3, 0, 3, 6, 0, 4, 9, 7, 0, 7, 5, 3, 2, 8, 9, 4, 3, 6,\n",
              "       0, 3, 8, 9, 3, 8, 3, 1, 8, 9, 4, 2, 9, 2, 3, 4, 7, 1, 2, 3, 7, 0,\n",
              "       3, 2, 6, 7, 1, 1, 8, 2, 8, 3, 5, 4, 8, 3, 1, 2, 7, 0, 0, 0, 7, 8,\n",
              "       7, 2, 4, 6, 1, 9, 2, 9, 2, 2, 2, 1, 5, 1, 0, 4, 7, 5, 9, 0, 8, 8,\n",
              "       4, 5, 2, 5, 5, 8, 3, 5, 6, 4, 5, 2, 8, 1, 7, 6, 4, 9, 7, 3, 1, 7,\n",
              "       2, 2, 0, 7, 2, 1, 6, 8, 9, 0, 4, 5, 1, 6, 4, 8, 5, 9, 4, 2, 9, 5,\n",
              "       1, 4, 8, 8, 4, 0, 5, 7, 1, 2, 6, 7, 9, 4, 1, 2, 8, 6, 7, 4, 7, 9,\n",
              "       9, 8, 5, 8, 7, 5, 0, 7, 5, 0, 5, 7, 2, 1, 4, 8, 2, 0, 4, 9, 9, 6,\n",
              "       9, 6, 4, 7, 9, 3, 7, 9, 3, 6, 3, 0, 7, 5, 9, 8, 8, 9, 0, 5, 0, 0,\n",
              "       4, 3, 0, 9, 7, 2, 1, 6, 5, 3, 8, 3, 5, 4, 2, 2, 5, 7, 7, 2, 5, 0,\n",
              "       7, 6, 3, 9, 6, 6, 0, 9, 3, 9, 2, 6, 8, 5, 0, 4, 1, 0, 9, 4, 0, 1,\n",
              "       8, 3, 9, 1, 4, 6, 5, 5, 9, 8, 8, 6])"
            ]
          },
          "metadata": {},
          "execution_count": 35
        }
      ]
    },
    {
      "cell_type": "markdown",
      "source": [
        "# **Model Accuracy**"
      ],
      "metadata": {
        "id": "JKnIXZCRT83Y"
      }
    },
    {
      "cell_type": "code",
      "source": [
        "from sklearn.metrics import confusion_matrix,classification_report"
      ],
      "metadata": {
        "id": "oj9TCTNVTvBI"
      },
      "execution_count": null,
      "outputs": []
    },
    {
      "cell_type": "code",
      "source": [
        "confusion_matrix(y_test,y_pred)"
      ],
      "metadata": {
        "colab": {
          "base_uri": "https://localhost:8080/"
        },
        "id": "Uj7uB5mcUF3a",
        "outputId": "ec75a73a-129b-4ce6-8c19-5247e3392b0a"
      },
      "execution_count": null,
      "outputs": [
        {
          "output_type": "execute_result",
          "data": {
            "text/plain": [
              "array([[52,  0,  0,  0,  2,  0,  0,  0,  0,  0],\n",
              "       [ 0, 56,  0,  0,  0,  0,  0,  0,  0,  0],\n",
              "       [ 0,  0, 55,  0,  0,  0,  0,  0,  0,  0],\n",
              "       [ 0,  1,  0, 41,  0,  0,  0,  0,  0,  0],\n",
              "       [ 0,  0,  0,  0, 60,  0,  0,  0,  0,  0],\n",
              "       [ 0,  0,  0,  1,  0, 52,  1,  0,  0,  0],\n",
              "       [ 0,  0,  0,  0,  0,  1, 47,  0,  0,  0],\n",
              "       [ 0,  0,  0,  0,  0,  0,  0, 49,  0,  0],\n",
              "       [ 0,  0,  2,  1,  0,  0,  0,  1, 63,  0],\n",
              "       [ 0,  0,  0,  1,  0,  0,  0,  0,  0, 54]])"
            ]
          },
          "metadata": {},
          "execution_count": 37
        }
      ]
    },
    {
      "cell_type": "code",
      "source": [
        "print(classification_report(y_test,y_pred))"
      ],
      "metadata": {
        "colab": {
          "base_uri": "https://localhost:8080/"
        },
        "id": "hGsagxybUKmd",
        "outputId": "7f6c89c7-361d-4baf-8763-ed177fb0e746"
      },
      "execution_count": null,
      "outputs": [
        {
          "output_type": "stream",
          "name": "stdout",
          "text": [
            "              precision    recall  f1-score   support\n",
            "\n",
            "           0       1.00      0.96      0.98        54\n",
            "           1       0.98      1.00      0.99        56\n",
            "           2       0.96      1.00      0.98        55\n",
            "           3       0.93      0.98      0.95        42\n",
            "           4       0.97      1.00      0.98        60\n",
            "           5       0.98      0.96      0.97        54\n",
            "           6       0.98      0.98      0.98        48\n",
            "           7       0.98      1.00      0.99        49\n",
            "           8       1.00      0.94      0.97        67\n",
            "           9       1.00      0.98      0.99        55\n",
            "\n",
            "    accuracy                           0.98       540\n",
            "   macro avg       0.98      0.98      0.98       540\n",
            "weighted avg       0.98      0.98      0.98       540\n",
            "\n"
          ]
        }
      ]
    },
    {
      "cell_type": "code",
      "source": [],
      "metadata": {
        "id": "bsNf7_6eUYGE"
      },
      "execution_count": null,
      "outputs": []
    }
  ]
}